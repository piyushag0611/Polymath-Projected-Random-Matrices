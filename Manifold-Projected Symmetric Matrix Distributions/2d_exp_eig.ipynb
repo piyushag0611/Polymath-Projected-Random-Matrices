{
 "cells": [
  {
   "cell_type": "code",
   "execution_count": 14,
   "metadata": {},
   "outputs": [],
   "source": [
    "import numpy as np\n",
    "import seaborn as sns\n",
    "from math import exp, sqrt\n",
    "import matplotlib.pyplot as plt"
   ]
  },
  {
   "cell_type": "code",
   "execution_count": 15,
   "metadata": {},
   "outputs": [],
   "source": [
    "def exp_eigv(E, Sigma=None):\n",
    "    if Sigma is None:\n",
    "        Sigma = np.identity(np.shape(E)[0])\n",
    "    x = E[0,0]\n",
    "    y = E[0,1]\n",
    "    z = E[1,1]\n",
    "    a = Sigma[0,0]\n",
    "    b = Sigma[1,1]\n",
    "    delta = a**2 * z**2 - 2*a*b*x*z + 4*a*b*y**2 + b**2 * x**2\n",
    "    exp_lambda1 = exp((-sqrt(delta)+a*z+b*z)/(2*a*b))\n",
    "    exp_lambda2 = exp((sqrt(delta)+a*z+b*z)/(2*a*b))\n",
    "    p = a * (exp_lambda1*(sqrt(delta)+a*z-b*x) + exp_lambda2*(sqrt(delta)-a*z+b*x)) / (2*sqrt(delta))\n",
    "    q = b * (exp_lambda1*(sqrt(delta)-a*z+b*x) + exp_lambda2*(sqrt(delta)+a*z-b*x)) / (2*sqrt(delta))\n",
    "    r = (a*b*y) * (-exp_lambda1+exp_lambda2) / (sqrt(delta))\n",
    "    # print(np.array([[p, r],[r, q]]))\n",
    "    mu1 = (-sqrt(p**2-2*p*q+q**2+4*r**2)+p+q)/2\n",
    "    mu2 = (sqrt(p**2-2*p*q+q**2+4*r**2)+p+q)/2\n",
    "    return mu2, mu1"
   ]
  },
  {
   "cell_type": "code",
   "execution_count": 16,
   "metadata": {},
   "outputs": [],
   "source": [
    "def gen_GOE(d):\n",
    "    B = np.random.randn(d,d)\n",
    "    return (B + B.T) / 2\n",
    "    \n",
    "def exp_sigma(E, Sigma=None):\n",
    "    if Sigma is None:\n",
    "        Sigma = np.identity(np.shape(E)[0])\n",
    "    X = np.linalg.solve(Sigma, E) # for general square matrices\n",
    "    D, V = np.linalg.eig(X)\n",
    "    L = np.diag(np.exp(D))\n",
    "    return Sigma @ V @ L @ np.linalg.inv(V)"
   ]
  },
  {
   "cell_type": "code",
   "execution_count": 17,
   "metadata": {},
   "outputs": [
    {
     "name": "stdout",
     "output_type": "stream",
     "text": [
      "[[-1.   0.5]\n",
      " [ 0.5 -1. ]]\n",
      "[[1.27832791 0.24363351]\n",
      " [0.24363351 0.39553045]]\n"
     ]
    },
    {
     "data": {
      "text/plain": [
       "array([1.34110189, 0.33275646])"
      ]
     },
     "execution_count": 17,
     "metadata": {},
     "output_type": "execute_result"
    }
   ],
   "source": [
    "X = gen_GOE(2)\n",
    "X = np.array([[-1, 0.5], [0.5, -1]])\n",
    "print(X)\n",
    "Sigma = np.array([[2,0],[0,1]])\n",
    "exp_X = exp_sigma(X, Sigma)\n",
    "print(exp_X)\n",
    "np.linalg.eigvals(exp_X)"
   ]
  },
  {
   "cell_type": "code",
   "execution_count": 18,
   "metadata": {},
   "outputs": [
    {
     "data": {
      "text/plain": [
       "(1.3411018899577885, 0.33275646215881904)"
      ]
     },
     "execution_count": 18,
     "metadata": {},
     "output_type": "execute_result"
    }
   ],
   "source": [
    "exp_eigv(X, Sigma)"
   ]
  },
  {
   "cell_type": "code",
   "execution_count": 19,
   "metadata": {},
   "outputs": [],
   "source": [
    "larger_evs = []\n",
    "smaller_evs = []\n",
    "for i in range(100000):\n",
    "    X = gen_GOE(2)\n",
    "    Sigma = np.array([[1,0],[0,1]])\n",
    "    mu1, mu2 = exp_eigv(X, Sigma)\n",
    "    larger_evs.append(mu1)\n",
    "    smaller_evs.append(mu2)\n",
    "all_evs = larger_evs + smaller_evs"
   ]
  },
  {
   "cell_type": "code",
   "execution_count": 20,
   "metadata": {},
   "outputs": [
    {
     "data": {
      "text/plain": [
       "<matplotlib.legend.Legend at 0x2d52719d7c0>"
      ]
     },
     "execution_count": 20,
     "metadata": {},
     "output_type": "execute_result"
    },
    {
     "data": {
      "image/png": "[encoded data removed]",
      "text/plain": [
       "<Figure size 432x288 with 1 Axes>"
      ]
     },
     "metadata": {
      "needs_background": "light"
     },
     "output_type": "display_data"
    }
   ],
   "source": [
    "sns.histplot(data=smaller_evs, stat=\"density\")\n",
    "sns.histplot(data=larger_evs, stat=\"density\", color=\"y\")\n",
    "sns.histplot(data=all_evs, stat=\"density\", color=\"orange\")\n",
    "plt.xlim(0, 5)\n",
    "plt.xlabel(\"Larger and Smaller Eigenvalues\")\n",
    "plt.legend([\"smaller\", \"larger\", \"mixed\"])"
   ]
  }
 ],
 "metadata": {
  "kernelspec": {
   "display_name": "Python 3.9.12 ('yiluo')",
   "language": "python",
   "name": "python3"
  },
  "language_info": {
   "codemirror_mode": {
    "name": "ipython",
    "version": 3
   },
   "file_extension": ".py",
   "mimetype": "text/x-python",
   "name": "python",
   "nbconvert_exporter": "python",
   "pygments_lexer": "ipython3",
   "version": "3.9.12"
  },
  "orig_nbformat": 4,
  "vscode": {
   "interpreter": {
    "hash": "8d44d33a7f13f9d4cddb525ac4f3ac46594e5ad702d7855411dac5417c059763"
   }
  }
 },
 "nbformat": 4,
 "nbformat_minor": 2
}
